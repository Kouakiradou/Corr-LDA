{
 "cells": [
  {
   "cell_type": "code",
   "execution_count": 1,
   "metadata": {},
   "outputs": [],
   "source": [
    "import numpy as np\n",
    "import colours\n",
    "from colours import color_word, color_std, color\n",
    "import matplotlib.pyplot as plt\n",
    "%matplotlib inline"
   ]
  },
  {
   "cell_type": "code",
   "execution_count": 2,
   "metadata": {},
   "outputs": [
    {
     "data": {
      "text/plain": [
       "['RED', 'GREEN', 'BLUE', 'CYAN', 'ORANGE', 'BLACK', 'WHITE', 'YELLOW']"
      ]
     },
     "execution_count": 2,
     "metadata": {},
     "output_type": "execute_result"
    }
   ],
   "source": [
    "colours.color_word"
   ]
  },
  {
   "cell_type": "code",
   "execution_count": 3,
   "metadata": {},
   "outputs": [
    {
     "data": {
      "text/plain": [
       "(2, 8)"
      ]
     },
     "execution_count": 3,
     "metadata": {},
     "output_type": "execute_result"
    }
   ],
   "source": [
    "warm = np.array([.3, .05, .09, .06, .35, .01, .01, .23])\n",
    "cold = np.array([.03, .35, .35, .2, .03, .01, .01, .02])\n",
    "\n",
    "TOPICS = np.stack([warm, cold])\n",
    "TOPICS.shape"
   ]
  },
  {
   "cell_type": "code",
   "execution_count": 4,
   "metadata": {},
   "outputs": [
    {
     "data": {
      "text/plain": [
       "array([2, 0, 0, 1, 0, 0, 0, 1])"
      ]
     },
     "execution_count": 4,
     "metadata": {},
     "output_type": "execute_result"
    }
   ],
   "source": [
    "np.random.multinomial(4, warm)"
   ]
  },
  {
   "cell_type": "code",
   "execution_count": 5,
   "metadata": {},
   "outputs": [],
   "source": [
    "# hyperparameter\n",
    "K = 2\n",
    "alpha = 0.1*np.ones(K) # np.random.gamma(shape=gamma_shape, scale=gamma_scale, size=k)\n",
    "\n",
    "# image level\n",
    "D = 10\n",
    "N = 4  # number of regions in a image\n",
    "M = np.random.randint(1, 5, D)\n",
    "THETA = np.random.dirichlet(alpha, D)\n"
   ]
  },
  {
   "cell_type": "code",
   "execution_count": 6,
   "metadata": {},
   "outputs": [
    {
     "data": {
      "image/png": "[encoded data removed]",
      "text/plain": [
       "<Figure size 432x288 with 1 Axes>"
      ]
     },
     "metadata": {
      "needs_background": "light"
     },
     "output_type": "display_data"
    }
   ],
   "source": [
    "plt.plot(THETA, '*') # documents x topics\n",
    "plt.ylim(-.01, 1.01)\n",
    "plt.xlabel(\"document\")\n",
    "plt.ylabel(\"topic proportion\");"
   ]
  },
  {
   "cell_type": "code",
   "execution_count": 14,
   "metadata": {},
   "outputs": [],
   "source": [
    "images = []\n",
    "captions = []\n",
    "\n",
    "for d in range(D):\n",
    "    Z = np.random.multinomial(1, THETA[d,], N)\n",
    "    per_square_prob = Z @ TOPICS\n",
    "    per_square = np.array([np.random.multinomial(1, per_square_prob[n]) for n in range(N)])\n",
    "    im_colors = per_square @ np.array(colours.color)\n",
    "    image = np.zeros([400, 400, 3], np.uint8)\n",
    "    image[0:200, 0:200, :] = np.clip(im_colors[0] + np.random.randn(3) * color_std, 0, 1) * 255\n",
    "    image[0:200, 200:, :] = np.clip(im_colors[1] + np.random.randn(3) * color_std, 0, 1) * 255\n",
    "    image[200:, 0:200, :] = np.clip(im_colors[2] + np.random.randn(3) * color_std, 0, 1) * 255\n",
    "    image[200:, 200:, :] = np.clip(im_colors[3] + np.random.randn(3) * color_std, 0, 1) * 255\n",
    "    images.append(image)\n",
    "    \n",
    "    Y = np.random.permutation(N)[:M[d]]\n",
    "    caption = [color_word[i] for i in np.unique(per_square[Y].argmax(-1))]\n",
    "    captions.append(caption)"
   ]
  },
  {
   "cell_type": "code",
   "execution_count": 15,
   "metadata": {},
   "outputs": [
    {
     "data": {
      "image/png": "[encoded data removed]",
      "text/plain": [
       "<Figure size 1008x432 with 10 Axes>"
      ]
     },
     "metadata": {
      "needs_background": "light"
     },
     "output_type": "display_data"
    }
   ],
   "source": [
    "plt.figure(figsize=(14,6))\n",
    "for i in range(10):\n",
    "    plt.subplot(2,5,i+1)\n",
    "    plt.imshow(images[i])\n",
    "    plt.title(', '.join(captions[i]))"
   ]
  },
  {
   "cell_type": "markdown",
   "metadata": {},
   "source": [
    "### This might not work because:\n",
    "\n",
    "* This has each COLOR with its own mean and variance\n",
    "* CorrLDA has each TOPIC with its own mean and variance\n",
    "* This will only make sense if all the different colors within a topic are really very similar (all blues, or all reds, maybe?)\n",
    "\n",
    "It could be worth trying in a few ways:\n",
    "\n",
    "* With 2 topics (can it recover \"warm\" and \"cool\"?)\n",
    "* With 2 topics, but PLAIN LDA ON CAPTIONS ONLY (this should be a little more likely to work, because then it just needs the topic vector…)\n",
    "* With # topics = # colors (in this case, can you find the original colors, and maybe even match them with their words?). This failed before by learning the same topic for all colors, which could happen again.\n",
    "\n",
    "If all of this doesn't work well, then it's worth discussing why it is hard to make synthetic data for testing CorrLDA (in contrast to LDA, where it is a bit easier).\n",
    "\n",
    "Then you can move on to (preliminary) work on the real data:\n",
    "\n",
    "* Can you run \"plain\" LDA on just the captions for the birds, without the images? (baseline -- might be able to learn something about different \"sorts\" of birds?)\n",
    "* Try out CorrLDA implementation and see what happens\n",
    "* Think whether there is something else simple to try out?"
   ]
  },
  {
   "cell_type": "code",
   "execution_count": null,
   "metadata": {},
   "outputs": [],
   "source": []
  }
 ],
 "metadata": {
  "kernelspec": {
   "display_name": "Python 3",
   "language": "python",
   "name": "python3"
  },
  "language_info": {
   "codemirror_mode": {
    "name": "ipython",
    "version": 3
   },
   "file_extension": ".py",
   "mimetype": "text/x-python",
   "name": "python",
   "nbconvert_exporter": "python",
   "pygments_lexer": "ipython3",
   "version": "3.7.5"
  },
  "pycharm": {
   "stem_cell": {
    "cell_type": "raw",
    "metadata": {
     "collapsed": false
    },
    "source": []
   }
  }
 },
 "nbformat": 4,
 "nbformat_minor": 4
}
